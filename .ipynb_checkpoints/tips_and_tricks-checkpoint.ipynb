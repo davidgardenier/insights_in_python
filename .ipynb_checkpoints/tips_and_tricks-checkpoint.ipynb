{
 "cells": [
  {
   "cell_type": "markdown",
   "metadata": {
    "slideshow": {
     "slide_type": "slide"
    }
   },
   "source": [
    "# Tips and Tricks for Programming\n",
    "\n",
    "*David Gardenier | ASTRON | University of Amsterdam*"
   ]
  },
  {
   "cell_type": "markdown",
   "metadata": {
    "slideshow": {
     "slide_type": "subslide"
    }
   },
   "source": [
    "### About me\n",
    "\n",
    "* *David Gardenier*\n",
    "  * Research: Mysterious flashes of light called FRBs\n",
    "  * Affiliations: ASTRON | University of Amsterdam\n",
    "  * Contact: gardenier@astron.nl"
   ]
  },
  {
   "cell_type": "markdown",
   "metadata": {
    "toc": true
   },
   "source": [
    "<h1>Table of Contents<span class=\"tocSkip\"></span></h1>\n",
    "<div class=\"toc\"><ul class=\"toc-item\"><li><span><a href=\"#Tips-and-Tricks-for-Programming\" data-toc-modified-id=\"Tips-and-Tricks-for-Programming-1\"><span class=\"toc-item-num\">1&nbsp;&nbsp;</span>Tips and Tricks for Programming</a></span><ul class=\"toc-item\"><li><ul class=\"toc-item\"><li><span><a href=\"#About-me\" data-toc-modified-id=\"About-me-1.0.1\"><span class=\"toc-item-num\">1.0.1&nbsp;&nbsp;</span>About me</a></span></li></ul></li></ul></li><li><span><a href=\"#Working-with-code\" data-toc-modified-id=\"Working-with-code-2\"><span class=\"toc-item-num\">2&nbsp;&nbsp;</span>Working with code</a></span><ul class=\"toc-item\"><li><ul class=\"toc-item\"><li><span><a href=\"#Versions\" data-toc-modified-id=\"Versions-2.0.1\"><span class=\"toc-item-num\">2.0.1&nbsp;&nbsp;</span>Versions</a></span></li><li><span><a href=\"#Running-Python\" data-toc-modified-id=\"Running-Python-2.0.2\"><span class=\"toc-item-num\">2.0.2&nbsp;&nbsp;</span>Running Python</a></span></li><li><span><a href=\"#Interactive-shell\" data-toc-modified-id=\"Interactive-shell-2.0.3\"><span class=\"toc-item-num\">2.0.3&nbsp;&nbsp;</span>Interactive shell</a></span></li><li><span><a href=\"#Running-files\" data-toc-modified-id=\"Running-files-2.0.4\"><span class=\"toc-item-num\">2.0.4&nbsp;&nbsp;</span>Running files</a></span></li><li><span><a href=\"#Jupyter-notebook\" data-toc-modified-id=\"Jupyter-notebook-2.0.5\"><span class=\"toc-item-num\">2.0.5&nbsp;&nbsp;</span>Jupyter notebook</a></span></li><li><span><a href=\"#Virtual-Environment\" data-toc-modified-id=\"Virtual-Environment-2.0.6\"><span class=\"toc-item-num\">2.0.6&nbsp;&nbsp;</span>Virtual Environment</a></span></li><li><span><a href=\"#Conda\" data-toc-modified-id=\"Conda-2.0.7\"><span class=\"toc-item-num\">2.0.7&nbsp;&nbsp;</span>Conda</a></span></li><li><span><a href=\"#Directory-structure\" data-toc-modified-id=\"Directory-structure-2.0.8\"><span class=\"toc-item-num\">2.0.8&nbsp;&nbsp;</span>Directory structure</a></span></li><li><span><a href=\"#IDEs\" data-toc-modified-id=\"IDEs-2.0.9\"><span class=\"toc-item-num\">2.0.9&nbsp;&nbsp;</span>IDEs</a></span><ul class=\"toc-item\"><li><span><a href=\"#For-instance,-from-autocompleting-code-...\" data-toc-modified-id=\"For-instance,-from-autocompleting-code-...-2.0.9.1\"><span class=\"toc-item-num\">2.0.9.1&nbsp;&nbsp;</span>For instance, from autocompleting code ...</a></span></li><li><span><a href=\"#...-to-check-for-mistakes-...\" data-toc-modified-id=\"...-to-check-for-mistakes-...-2.0.9.2\"><span class=\"toc-item-num\">2.0.9.2&nbsp;&nbsp;</span>... to check for mistakes ...</a></span></li><li><span><a href=\"#...-and-interactive-coding\" data-toc-modified-id=\"...-and-interactive-coding-2.0.9.3\"><span class=\"toc-item-num\">2.0.9.3&nbsp;&nbsp;</span>... and interactive coding</a></span></li></ul></li><li><span><a href=\"#The-importance-of-pen-and-paper\" data-toc-modified-id=\"The-importance-of-pen-and-paper-2.0.10\"><span class=\"toc-item-num\">2.0.10&nbsp;&nbsp;</span>The importance of pen and paper</a></span></li></ul></li></ul></li><li><span><a href=\"#Writing-code\" data-toc-modified-id=\"Writing-code-3\"><span class=\"toc-item-num\">3&nbsp;&nbsp;</span>Writing code</a></span><ul class=\"toc-item\"><li><ul class=\"toc-item\"><li><span><a href=\"#Program-structure\" data-toc-modified-id=\"Program-structure-3.0.1\"><span class=\"toc-item-num\">3.0.1&nbsp;&nbsp;</span>Program structure</a></span></li><li><span><a href=\"#Pep8\" data-toc-modified-id=\"Pep8-3.0.2\"><span class=\"toc-item-num\">3.0.2&nbsp;&nbsp;</span>Pep8</a></span></li><li><span><a href=\"#Some-conventions-you-should-know\" data-toc-modified-id=\"Some-conventions-you-should-know-3.0.3\"><span class=\"toc-item-num\">3.0.3&nbsp;&nbsp;</span>Some conventions you should know</a></span></li><li><span><a href=\"#Comments\" data-toc-modified-id=\"Comments-3.0.4\"><span class=\"toc-item-num\">3.0.4&nbsp;&nbsp;</span>Comments</a></span></li><li><span><a href=\"#Docstrings\" data-toc-modified-id=\"Docstrings-3.0.5\"><span class=\"toc-item-num\">3.0.5&nbsp;&nbsp;</span>Docstrings</a></span></li><li><span><a href=\"#Doctest\" data-toc-modified-id=\"Doctest-3.0.6\"><span class=\"toc-item-num\">3.0.6&nbsp;&nbsp;</span>Doctest</a></span></li><li><span><a href=\"#Unit-testing\" data-toc-modified-id=\"Unit-testing-3.0.7\"><span class=\"toc-item-num\">3.0.7&nbsp;&nbsp;</span>Unit testing</a></span></li><li><span><a href=\"#if-__name__-==-'__main__'\" data-toc-modified-id=\"if-__name__-==-'__main__'-3.0.8\"><span class=\"toc-item-num\">3.0.8&nbsp;&nbsp;</span><code>if __name__ == '__main__'</code></a></span></li><li><span><a href=\"#Debugging-/-Profiling\" data-toc-modified-id=\"Debugging-/-Profiling-3.0.9\"><span class=\"toc-item-num\">3.0.9&nbsp;&nbsp;</span>Debugging / Profiling</a></span></li></ul></li><li><span><a href=\"#Profiling\" data-toc-modified-id=\"Profiling-3.1\"><span class=\"toc-item-num\">3.1&nbsp;&nbsp;</span>Profiling</a></span><ul class=\"toc-item\"><li><span><a href=\"#Within-jupyter-notebook\" data-toc-modified-id=\"Within-jupyter-notebook-3.1.1\"><span class=\"toc-item-num\">3.1.1&nbsp;&nbsp;</span>Within jupyter notebook</a></span></li><li><span><a href=\"#Profiling-your-entire-code\" data-toc-modified-id=\"Profiling-your-entire-code-3.1.2\"><span class=\"toc-item-num\">3.1.2&nbsp;&nbsp;</span>Profiling your entire code</a></span></li><li><span><a href=\"#Lineprofiling-your-code\" data-toc-modified-id=\"Lineprofiling-your-code-3.1.3\"><span class=\"toc-item-num\">3.1.3&nbsp;&nbsp;</span>Lineprofiling your code</a></span></li></ul></li><li><span><a href=\"#Getting-help\" data-toc-modified-id=\"Getting-help-3.2\"><span class=\"toc-item-num\">3.2&nbsp;&nbsp;</span>Getting help</a></span><ul class=\"toc-item\"><li><span><a href=\"#Follow-the-spiders-traceback\" data-toc-modified-id=\"Follow-the-spiders-traceback-3.2.1\"><span class=\"toc-item-num\">3.2.1&nbsp;&nbsp;</span>Follow the <del>spiders</del> traceback</a></span></li><li><span><a href=\"#Stackoverflow\" data-toc-modified-id=\"Stackoverflow-3.2.2\"><span class=\"toc-item-num\">3.2.2&nbsp;&nbsp;</span>Stackoverflow</a></span></li><li><span><a href=\"#Python-Documentation\" data-toc-modified-id=\"Python-Documentation-3.2.3\"><span class=\"toc-item-num\">3.2.3&nbsp;&nbsp;</span>Python Documentation</a></span></li><li><span><a href=\"#Manuals\" data-toc-modified-id=\"Manuals-3.2.4\"><span class=\"toc-item-num\">3.2.4&nbsp;&nbsp;</span>Manuals</a></span></li></ul></li><li><span><a href=\"#Git(hub)\" data-toc-modified-id=\"Git(hub)-3.3\"><span class=\"toc-item-num\">3.3&nbsp;&nbsp;</span>Git(hub)</a></span><ul class=\"toc-item\"><li><ul class=\"toc-item\"><li><span><a href=\"#What-can-it-look-like?\" data-toc-modified-id=\"What-can-it-look-like?-3.3.0.1\"><span class=\"toc-item-num\">3.3.0.1&nbsp;&nbsp;</span>What can it look like?</a></span></li></ul></li></ul></li><li><span><a href=\"#Github\" data-toc-modified-id=\"Github-3.4\"><span class=\"toc-item-num\">3.4&nbsp;&nbsp;</span>Github</a></span></li></ul></li><li><span><a href=\"#Time-savers\" data-toc-modified-id=\"Time-savers-4\"><span class=\"toc-item-num\">4&nbsp;&nbsp;</span>Time savers</a></span><ul class=\"toc-item\"><li><span><a href=\"#Classes\" data-toc-modified-id=\"Classes-4.1\"><span class=\"toc-item-num\">4.1&nbsp;&nbsp;</span>Classes</a></span><ul class=\"toc-item\"><li><span><a href=\"#Pandas\" data-toc-modified-id=\"Pandas-4.1.1\"><span class=\"toc-item-num\">4.1.1&nbsp;&nbsp;</span>Pandas</a></span></li><li><span><a href=\"#Astropy-&amp;-Matplotlib\" data-toc-modified-id=\"Astropy-&amp;-Matplotlib-4.1.2\"><span class=\"toc-item-num\">4.1.2&nbsp;&nbsp;</span>Astropy &amp; Matplotlib</a></span></li></ul></li><li><span><a href=\"#Speed-up-your-code\" data-toc-modified-id=\"Speed-up-your-code-4.2\"><span class=\"toc-item-num\">4.2&nbsp;&nbsp;</span>Speed up your code</a></span><ul class=\"toc-item\"><li><span><a href=\"#Numpy\" data-toc-modified-id=\"Numpy-4.2.1\"><span class=\"toc-item-num\">4.2.1&nbsp;&nbsp;</span>Numpy</a></span></li><li><span><a href=\"#Ufuncs\" data-toc-modified-id=\"Ufuncs-4.2.2\"><span class=\"toc-item-num\">4.2.2&nbsp;&nbsp;</span>Ufuncs</a></span></li><li><span><a href=\"#Numba\" data-toc-modified-id=\"Numba-4.2.3\"><span class=\"toc-item-num\">4.2.3&nbsp;&nbsp;</span>Numba</a></span></li></ul></li></ul></li></ul></div>"
   ]
  },
  {
   "cell_type": "markdown",
   "metadata": {},
   "source": [
    "# Working with code"
   ]
  },
  {
   "cell_type": "markdown",
   "metadata": {
    "slideshow": {
     "slide_type": "subslide"
    }
   },
   "source": [
    "### Versions\n",
    "* Python 3.x versus Python 2.x\n",
    "* Libraries have already switched to Python 3.x\n",
    "* Difference in performance\n",
    "* Slight difference in syntax\n",
    "* Basically, use Python 3.x"
   ]
  },
  {
   "cell_type": "markdown",
   "metadata": {
    "slideshow": {
     "slide_type": "subslide"
    }
   },
   "source": [
    "### Running Python\n",
    "*Skipping the walking*\n",
    "\n",
    "* Simply start the interpreter with\n",
    "    ```bash\n",
    "    python3\n",
    "    ```\n",
    "* Older versions (if installed) can be accessed with eg `python2.7`"
   ]
  },
  {
   "cell_type": "markdown",
   "metadata": {
    "slideshow": {
     "slide_type": "subslide"
    }
   },
   "source": [
    "### Interactive shell\n",
    "* Annoying having to do things per line, eg\n",
    "    ```python\n",
    "    def function(x):\n",
    "        a = 2\n",
    "        c = 10\n",
    "        return a*x + c\n",
    "    ```"
   ]
  },
  {
   "cell_type": "markdown",
   "metadata": {
    "slideshow": {
     "slide_type": "fragment"
    }
   },
   "source": [
    "* So instead use...\n",
    "    ```bash\n",
    "    ipython3\n",
    "    ```"
   ]
  },
  {
   "cell_type": "markdown",
   "metadata": {
    "slideshow": {
     "slide_type": "subslide"
    }
   },
   "source": [
    "### Running files\n",
    "* Or, run a program with\n",
    "    ```bash\n",
    "    python3 <filename.py>\n",
    "    ```\n",
    "* You can add flags to python, which provide a whole bunch of functionality, eg\n",
    "    ```bash\n",
    "    python3 -m doctest -v <filename.py>\n",
    "    ```"
   ]
  },
  {
   "cell_type": "markdown",
   "metadata": {
    "slideshow": {
     "slide_type": "subslide"
    }
   },
   "source": [
    "### Jupyter notebook\n",
    "* Exploring data? `jupyter notebook` provides an easy way to interactively run just the parts of the code you want to change. \n",
    "* While they don't have the functionality of an IDE, for purely exploratory or tutorial reasons they can be pretty convenient as they encourage text amongst code.\n",
    "* A.k.a. `ipython notebook` for historical reasons"
   ]
  },
  {
   "cell_type": "markdown",
   "metadata": {
    "slideshow": {
     "slide_type": "subslide"
    }
   },
   "source": [
    "### Virtual Environment\n",
    "* Updates to libraries can break your code\n",
    "* Say `math.pi` used to be 3.14, and then is changed to 3\n",
    "* Code is just as important as maths\n",
    "* To ensure your code always runs with the input you designed it in, use virtual environments\n",
    "* They isolate the libraries you install\n",
    "* Use a virtual environment per project, otherwise things *will* break"
   ]
  },
  {
   "cell_type": "code",
   "execution_count": null,
   "metadata": {
    "slideshow": {
     "slide_type": "subslide"
    }
   },
   "outputs": [],
   "source": [
    "# Change directories\n",
    "! cd ./antelope\n",
    "\n",
    "# Create a virtual environment\n",
    "! python3 -m venv ./venv\n",
    "\n",
    "# Activate the virtual environment\n",
    "! source ./venv/bin/activate\n",
    "\n",
    "# Install all the extra libraries needed\n",
    "! pip3 install -r requirements.txt"
   ]
  },
  {
   "cell_type": "code",
   "execution_count": null,
   "metadata": {
    "slideshow": {
     "slide_type": "subslide"
    }
   },
   "outputs": [],
   "source": [
    "# Save time using\n",
    "! alias antelope = 'cd ~/antelope/; source ./venv/bin/activate; atom .'"
   ]
  },
  {
   "cell_type": "code",
   "execution_count": null,
   "metadata": {
    "slideshow": {
     "slide_type": "fragment"
    }
   },
   "outputs": [],
   "source": [
    "# Quit out of the environment using\n",
    "! deactivate"
   ]
  },
  {
   "cell_type": "markdown",
   "metadata": {
    "slideshow": {
     "slide_type": "subslide"
    }
   },
   "source": [
    "### Conda\n",
    "* Anaconda (or `conda`) is a company's way of making installing python packages easier\n",
    "* Continuum Analytics is also responsible for Jupyter notebooks "
   ]
  },
  {
   "cell_type": "markdown",
   "metadata": {
    "slideshow": {
     "slide_type": "subslide"
    }
   },
   "source": [
    "### Directory structure\n",
    "* This is just advice, no need to stick to it\n",
    "* For a project called antelope, in order of importance\n",
    "\n",
    "```\n",
    "antelope/\n",
    "    antelope/\n",
    "        __init__.py\n",
    "        <core>.py\n",
    "        <helpers>.py\n",
    "    tests/\n",
    "        <basic>.py\n",
    "        <advanced>.py\n",
    "        example.py\n",
    "    docs/\n",
    "        <auto_doc>.py\n",
    "        <index>.md\n",
    "    thesis/\n",
    "        <cal_something>.py\n",
    "        <plot_something>.py\n",
    "    data/\n",
    "        <big_file>.dat\n",
    "        \n",
    "    README.md\n",
    "    LICENSE.md\n",
    "    setup.py\n",
    "    requirements.txt\n",
    "```"
   ]
  },
  {
   "cell_type": "markdown",
   "metadata": {
    "slideshow": {
     "slide_type": "subslide"
    }
   },
   "source": [
    "### IDEs\n",
    "\n",
    "* You can edit python code in a 'notebook'-like program\n",
    "* But, Integrated Development Environments (IDEs) can save you a *lot* of time\n",
    "* Code a lot in Python? Try out `Atom`, `Pycharm`, `Spyder` etc."
   ]
  },
  {
   "cell_type": "markdown",
   "metadata": {
    "slideshow": {
     "slide_type": "subslide"
    }
   },
   "source": [
    "#### For instance, from autocompleting code ...\n",
    "![auto_complete](media/auto_complete.gif)"
   ]
  },
  {
   "cell_type": "markdown",
   "metadata": {
    "slideshow": {
     "slide_type": "subslide"
    }
   },
   "source": [
    "#### ... to check for mistakes ...\n",
    "![linter](media/linter.gif)"
   ]
  },
  {
   "cell_type": "markdown",
   "metadata": {
    "slideshow": {
     "slide_type": "subslide"
    }
   },
   "source": [
    "#### ... and interactive coding\n",
    "![hydrogen](media/hydrogen.gif)"
   ]
  },
  {
   "cell_type": "markdown",
   "metadata": {},
   "source": [
    "### The importance of pen and paper\n",
    "\n",
    "Perhaps the tip I would most strongly recommend: think before coding. Think about the structure of your program. Think about the issues it might run into. Think about the boundary conditions and the challenges it will face. Use some pen and paper to jot your ideas down, to form a flowchart, create a pipeline. You'll have to think about them anyway, and it's far better to do it in advance of spending all the time coding. And only once you've considered all aspects, only then start with coding. It will save you so much time. "
   ]
  },
  {
   "cell_type": "markdown",
   "metadata": {},
   "source": [
    "# Writing code"
   ]
  },
  {
   "cell_type": "markdown",
   "metadata": {
    "slideshow": {
     "slide_type": "subslide"
    }
   },
   "source": [
    "### Program structure\n",
    "Let's go off on a tangent... Here's an example of well-structured code"
   ]
  },
  {
   "cell_type": "code",
   "execution_count": null,
   "metadata": {
    "slideshow": {
     "slide_type": "subslide"
    }
   },
   "outputs": [],
   "source": [
    "\"\"\"Program to calculate one of the angles of a triangle.\"\"\"\n",
    "import math\n",
    "from examples.timed_code import run\n",
    "\n",
    "OUTPUT = False\n",
    "\n",
    "\n",
    "def cal_angle(a, b):\n",
    "    \"\"\"Calculate the angle next to a and opposite b.\n",
    "    \n",
    "    Some extra information about this function, which\n",
    "    might be good to note, this that you have to ensure\n",
    "    you get the order of a and b right.\n",
    "    \n",
    "    Args:\n",
    "        a (float): The closest side to the angle, but \n",
    "            not the longest side in the triangle.\n",
    "        b (float): The opposite side to the angle\n",
    "        \n",
    "    Returns:\n",
    "        float: The angle next to a and opposite b\n",
    "        \n",
    "    Examples:\n",
    "        This ought to work\n",
    "        >>> cal_angle(4, 4)\n",
    "        45.0\n",
    "    \"\"\"\n",
    "    run(seconds=0.5)\n",
    "    return math.degrees(math.atan(b/a))\n",
    "\n",
    "\n",
    "answer = cal_angle(2, 3)\n",
    "\n",
    "# Only print if user wants output\n",
    "if OUTPUT:\n",
    "    print(answer)"
   ]
  },
  {
   "cell_type": "markdown",
   "metadata": {
    "slideshow": {
     "slide_type": "subslide"
    }
   },
   "source": [
    "### Pep8\n",
    "* The conventions you should follow? All in Pep8\n",
    "* IDEs have extensions called linters which check this for you"
   ]
  },
  {
   "cell_type": "markdown",
   "metadata": {
    "slideshow": {
     "slide_type": "subslide"
    }
   },
   "source": [
    "![linter](media/linter.gif)"
   ]
  },
  {
   "cell_type": "markdown",
   "metadata": {},
   "source": [
    "### Some conventions you should know\n",
    "* Indents should be with 4 spaces, not a tab\n",
    "* Python lines should be shorter than 79 characters\n",
    "* No deeply indented code\n",
    "* Variables in small case (`mass = 45`)\n",
    "* Global variables in uppercase if using (`OUTPUT = False`)\n",
    "* Avoid builtin names\n",
    "* Use underscores for readability (`def cal_density():`)\n",
    "* Classes in camel case (`RingedPlanet`)\n",
    "* Always avoid commented out code\n",
    "* Use descriptive names for variables (eg not`l2 = []`)"
   ]
  },
  {
   "cell_type": "markdown",
   "metadata": {
    "slideshow": {
     "slide_type": "subslide"
    }
   },
   "source": [
    "### Comments\n",
    "Always comment your code, both for the future you and for others"
   ]
  },
  {
   "cell_type": "code",
   "execution_count": null,
   "metadata": {},
   "outputs": [],
   "source": [
    "import math\n",
    "\n",
    "# Calculate the hypotenuse of a triangle\n",
    "result = math.sqrt(3**2 + 4**2)  # meters"
   ]
  },
  {
   "cell_type": "markdown",
   "metadata": {
    "slideshow": {
     "slide_type": "subslide"
    }
   },
   "source": [
    "### Docstrings"
   ]
  },
  {
   "cell_type": "code",
   "execution_count": null,
   "metadata": {},
   "outputs": [],
   "source": [
    "\"\"\"Calculate triangle parameters.\"\"\"\n",
    "import math\n",
    "\n",
    "# Calculate the hypotenuse of a triangle\n",
    "result = math.sqrt(3**2 + 4**2)  # meters"
   ]
  },
  {
   "cell_type": "code",
   "execution_count": null,
   "metadata": {
    "slideshow": {
     "slide_type": "-"
    }
   },
   "outputs": [],
   "source": [
    "def func(arg1, arg2):\n",
    "    \"\"\"Summary line.\n",
    "\n",
    "    Extended description of function.\n",
    "\n",
    "    Args:\n",
    "        arg1 (int): Description of arg1\n",
    "        arg2 (str): Description of arg2\n",
    "\n",
    "    Returns:\n",
    "        bool: Description of return value\n",
    "\n",
    "    Raises:\n",
    "        ValueError: If `arg2` is equal to `arg1`.\n",
    "\n",
    "    Examples:\n",
    "        Examples should be written in doctest format, and should illustrate how\n",
    "        to use the function.\n",
    "\n",
    "        >>> a = [1,2,3]\n",
    "        >>> print([x + 3 for x in a])\n",
    "        [4, 5, 6]\n",
    "\n",
    "    \"\"\"\n",
    "    if arg1 == arg2:\n",
    "        raise ValueError('arg1 may not be equal to arg2')\n",
    "    return True"
   ]
  },
  {
   "cell_type": "markdown",
   "metadata": {
    "slideshow": {
     "slide_type": "subslide"
    }
   },
   "source": [
    "### Doctest"
   ]
  },
  {
   "cell_type": "code",
   "execution_count": null,
   "metadata": {
    "slideshow": {
     "slide_type": "-"
    }
   },
   "outputs": [],
   "source": [
    "def fib(n):\n",
    "    \"\"\"Calculates the n-th Fibonacci number.  \n",
    "\n",
    "    >>> fib(0)\n",
    "    0\n",
    "    >>> fib(15)\n",
    "    610\n",
    "    >>> \n",
    "\n",
    "    \"\"\"\n",
    "    a, b = 0, 1\n",
    "    for i in range(n):\n",
    "        a, b = b, a + b\n",
    "    return a"
   ]
  },
  {
   "cell_type": "markdown",
   "metadata": {},
   "source": [
    "Which can be run with \n",
    "```\n",
    "$ python3 -m doctest -v <file>\n",
    "```"
   ]
  },
  {
   "cell_type": "markdown",
   "metadata": {
    "slideshow": {
     "slide_type": "subslide"
    }
   },
   "source": [
    "Producing\n",
    "```\n",
    "Trying:\n",
    "    fib(0)\n",
    "Expecting:\n",
    "    0\n",
    "ok\n",
    "Trying:\n",
    "    fib(15)\n",
    "Expecting:\n",
    "    610\n",
    "ok\n",
    "1 items had no tests:\n",
    "    test\n",
    "1 items passed all tests:\n",
    "   2 tests in test.fib\n",
    "2 tests in 2 items.\n",
    "2 passed and 0 failed.\n",
    "Test passed.\n",
    "```"
   ]
  },
  {
   "cell_type": "markdown",
   "metadata": {
    "slideshow": {
     "slide_type": "subslide"
    }
   },
   "source": [
    "### Unit testing\n",
    "Writing tests in docstrings? A bit cumbersome. It's also possible to write tests as python code. Many computer scientists write their tests before actually implementing the code. Advantages? You don't need to worry about boundary conditions, and also - when you change code, you can check whether it's still working under all conditions by running the tests."
   ]
  },
  {
   "cell_type": "code",
   "execution_count": null,
   "metadata": {},
   "outputs": [],
   "source": [
    "import unittest\n",
    "\n",
    "# Define the function\n",
    "def fun(x):\n",
    "    return x + 1\n",
    "\n",
    "# Define the tests\n",
    "class MyTest(unittest.TestCase):\n",
    "    def test(self):\n",
    "        self.assertEqual(fun(3), 4)\n",
    "\n",
    "# Run the unit test (the argv is just for jupyter notebooks)\n",
    "if  __name__  == '__main__':\n",
    "    unittest.main(argv=['first-arg-is-ignored'], exit=False)"
   ]
  },
  {
   "cell_type": "markdown",
   "metadata": {
    "slideshow": {
     "slide_type": "subslide"
    }
   },
   "source": [
    "### `if __name__ == '__main__'`\n",
    "For ensuring code is only run if it's not imported"
   ]
  },
  {
   "cell_type": "code",
   "execution_count": null,
   "metadata": {},
   "outputs": [],
   "source": [
    "\"\"\"Code timed to run for x seconds.\"\"\"\n",
    "import time\n",
    "\n",
    "\n",
    "def run(seconds=2):\n",
    "    \"\"\"Run a program for a number of seconds.\"\"\"\n",
    "    time.sleep(seconds)\n",
    "\n",
    "if __name__ == '__main__':\n",
    "    print('Starting program')\n",
    "    run()\n",
    "    print('Finishing program')"
   ]
  },
  {
   "cell_type": "markdown",
   "metadata": {},
   "source": [
    "### Debugging / Profiling"
   ]
  },
  {
   "cell_type": "code",
   "execution_count": null,
   "metadata": {},
   "outputs": [],
   "source": [
    "import time\n",
    "\n",
    "def complicated_function():\n",
    "    time.sleep(2)\n",
    "    x, y, z = 1, '2', 3\n",
    "    \n",
    "    # Usually you might do this\n",
    "    print(type(y))\n",
    "    \n",
    "    return y+3\n",
    "    \n",
    "complicated_function()"
   ]
  },
  {
   "cell_type": "code",
   "execution_count": null,
   "metadata": {},
   "outputs": [],
   "source": [
    "def upper_func(x):\n",
    "    return x + 1 + 'error'\n",
    "\n",
    "def middle_func(x):\n",
    "    # This is better as it drops you into an interactive shell \n",
    "    # with all of your variables!\n",
    "    import pdb; pdb.set_trace()\n",
    "    return upper_func(x) + 1\n",
    "\n",
    "def lower_func(x):\n",
    "    return middle_func(x) + 1\n",
    "\n",
    "for i in range(10):\n",
    "    answer = lower_func(i)"
   ]
  },
  {
   "cell_type": "markdown",
   "metadata": {
    "slideshow": {
     "slide_type": "slide"
    }
   },
   "source": [
    "## Profiling\n",
    "*Find the bottleneck in your code*"
   ]
  },
  {
   "cell_type": "markdown",
   "metadata": {
    "slideshow": {
     "slide_type": "subslide"
    }
   },
   "source": [
    "### Within jupyter notebook"
   ]
  },
  {
   "cell_type": "code",
   "execution_count": null,
   "metadata": {},
   "outputs": [],
   "source": [
    "%%time\n",
    "\n",
    "def upper_func(x):\n",
    "    return x + 1\n",
    "\n",
    "def middle_func(x):\n",
    "    [upper_func(i) for i in range(10000)]\n",
    "    return upper_func(x) + 1\n",
    "\n",
    "def lower_func(x):\n",
    "    return middle_func(x) + 1\n",
    "\n",
    "lower_func(5)"
   ]
  },
  {
   "cell_type": "code",
   "execution_count": null,
   "metadata": {
    "slideshow": {
     "slide_type": "subslide"
    }
   },
   "outputs": [],
   "source": [
    "%%timeit\n",
    "\n",
    "def upper_func(x):\n",
    "    return x + 1\n",
    "\n",
    "def middle_func(x):\n",
    "    [upper_func(i) for i in range(10000)]\n",
    "    return upper_func(x) + 1\n",
    "\n",
    "def lower_func(x):\n",
    "    return middle_func(x) + 1\n",
    "\n",
    "lower_func(5)"
   ]
  },
  {
   "cell_type": "markdown",
   "metadata": {
    "slideshow": {
     "slide_type": "subslide"
    }
   },
   "source": [
    "### Profiling your entire code"
   ]
  },
  {
   "cell_type": "markdown",
   "metadata": {},
   "source": [
    "Try profiling your code using a bash function"
   ]
  },
  {
   "cell_type": "code",
   "execution_count": null,
   "metadata": {},
   "outputs": [],
   "source": [
    "profile() { python3 -m cProfile -o ~/Downloads/temp.profile $1; snakeviz ~/Downloads/temp.profile;}"
   ]
  },
  {
   "cell_type": "markdown",
   "metadata": {
    "slideshow": {
     "slide_type": "subslide"
    }
   },
   "source": [
    "### Lineprofiling your code"
   ]
  },
  {
   "cell_type": "markdown",
   "metadata": {},
   "source": [
    "Or if that's not detailed enough, place the `@profile` decorator above a function in your code, and then run the following"
   ]
  },
  {
   "cell_type": "code",
   "execution_count": null,
   "metadata": {},
   "outputs": [],
   "source": [
    "lineprofile() { kernprof -l -v $1;}"
   ]
  },
  {
   "cell_type": "markdown",
   "metadata": {
    "slideshow": {
     "slide_type": "slide"
    }
   },
   "source": [
    "## Getting help\n",
    "*Help will always be given to those who ask for it*"
   ]
  },
  {
   "cell_type": "markdown",
   "metadata": {
    "slideshow": {
     "slide_type": "subslide"
    }
   },
   "source": [
    "### Follow the ~~spiders~~ traceback"
   ]
  },
  {
   "cell_type": "code",
   "execution_count": null,
   "metadata": {},
   "outputs": [],
   "source": [
    "def upper_func(x):\n",
    "    return x + 1 + 'error'\n",
    "\n",
    "def middle_func(x):\n",
    "    return upper_func(x) + 1\n",
    "\n",
    "def lower_func(x):\n",
    "    return middle_func(x) + 1\n",
    "\n",
    "for i in range(1):\n",
    "    answer = lower_func(i)\n",
    "\n",
    "print(answer)"
   ]
  },
  {
   "cell_type": "markdown",
   "metadata": {
    "slideshow": {
     "slide_type": "subslide"
    }
   },
   "source": [
    "### Stackoverflow\n",
    "* Google is your friend\n",
    "* The answers to any question you have"
   ]
  },
  {
   "cell_type": "markdown",
   "metadata": {
    "slideshow": {
     "slide_type": "subslide"
    }
   },
   "source": [
    "### Python Documentation\n",
    "* Very clear documentation\n",
    "* Clear examples\n",
    "* Great for understand how something works rather than perhaps for fixing something"
   ]
  },
  {
   "cell_type": "markdown",
   "metadata": {
    "slideshow": {
     "slide_type": "subslide"
    }
   },
   "source": [
    "### Manuals\n",
    "* Using `man` or the docstrings can tell you a lot about a program"
   ]
  },
  {
   "cell_type": "markdown",
   "metadata": {
    "slideshow": {
     "slide_type": "slide"
    }
   },
   "source": [
    "## Git(hub)\n",
    "*Version control your software*"
   ]
  },
  {
   "cell_type": "markdown",
   "metadata": {
    "slideshow": {
     "slide_type": "subslide"
    }
   },
   "source": [
    "Everyone should use git. Seriously. You'll no longer need to worry about breaking a working version of your code. Don't worry about learning all the commands - these days there are GUIs like Gitkraken which do the hard work for you."
   ]
  },
  {
   "cell_type": "markdown",
   "metadata": {
    "slideshow": {
     "slide_type": "subslide"
    }
   },
   "source": [
    "![final_version](media/final.png)"
   ]
  },
  {
   "cell_type": "markdown",
   "metadata": {
    "slideshow": {
     "slide_type": "subslide"
    }
   },
   "source": [
    "#### What can it look like?\n",
    "![git](media/git.png)"
   ]
  },
  {
   "cell_type": "markdown",
   "metadata": {
    "slideshow": {
     "slide_type": "subslide"
    }
   },
   "source": [
    "For a full introduction, see [this presentation](https://davidgardenier.com/talks/201710_git.pdf)"
   ]
  },
  {
   "cell_type": "markdown",
   "metadata": {
    "slideshow": {
     "slide_type": "slide"
    }
   },
   "source": [
    "## Github\n",
    "*Backup your code*"
   ]
  },
  {
   "cell_type": "markdown",
   "metadata": {
    "slideshow": {
     "slide_type": "subslide"
    }
   },
   "source": [
    "Want to have a backup of your data? Or collaborate on code without sending having to send through files or code fragments? Check out Github and apply for a Student Developer Pack or an Academic Research Pack.\n",
    "\n",
    "Want to share a snippet of code? Try using gists\n",
    "\n",
    "Want your code to automatically be tested when it arrives on Github? Try linking it up with Travis\n",
    "\n",
    "And want to know which percentage of your code you've tested? Then try Coveralls"
   ]
  },
  {
   "cell_type": "markdown",
   "metadata": {},
   "source": [
    "# Time savers"
   ]
  },
  {
   "cell_type": "code",
   "execution_count": null,
   "metadata": {},
   "outputs": [],
   "source": [
    "a = 'something amazing'\n",
    "b = f'watch {a} right now'\n",
    "print(b)"
   ]
  },
  {
   "cell_type": "markdown",
   "metadata": {
    "slideshow": {
     "slide_type": "slide"
    }
   },
   "source": [
    "## Classes\n",
    "*Complicated things, but pretty convenient*"
   ]
  },
  {
   "cell_type": "markdown",
   "metadata": {
    "slideshow": {
     "slide_type": "subslide"
    }
   },
   "source": [
    "* You don't need to be able to write these, just to have some understanding of them\n",
    "* *Object Oriented Programming* | A way of programming in which data and functions related to the data are linked in an object"
   ]
  },
  {
   "cell_type": "code",
   "execution_count": null,
   "metadata": {
    "slideshow": {
     "slide_type": "subslide"
    }
   },
   "outputs": [],
   "source": [
    "import math\n",
    "\n",
    "class Planet(object):\n",
    "    def __init__(self, name, radius, mass):\n",
    "        self.name = name\n",
    "        self.radius = radius\n",
    "        self.mass = mass\n",
    "\n",
    "    def density(self):\n",
    "        return 3. * self.mass / (4 * math.pi * self.radius**3)\n",
    "\n",
    "    def __repr__(self):\n",
    "        return f\"This planet is {self.name}.\""
   ]
  },
  {
   "cell_type": "code",
   "execution_count": null,
   "metadata": {},
   "outputs": [],
   "source": [
    "this_planet = Planet(\"Earth\", 6.4e6, 6.0e24)\n",
    "other_planet = Planet(\"Mars\", 3.4e6, 6.4e23)\n",
    "\n",
    "print(this_planet)"
   ]
  },
  {
   "cell_type": "code",
   "execution_count": null,
   "metadata": {},
   "outputs": [],
   "source": [
    "for planet in (this_planet, other_planet):\n",
    "    print(f\"The density of {planet.name} is {planet.density():.2f} kg/m3\")"
   ]
  },
  {
   "cell_type": "markdown",
   "metadata": {
    "slideshow": {
     "slide_type": "subslide"
    }
   },
   "source": [
    "* *Inheritance* | Creating a hierarchy of classes\n",
    "* *Baseclass* | The class from which is inherited\n",
    "* *Subclass* | A class inheriting from a baseclass"
   ]
  },
  {
   "cell_type": "code",
   "execution_count": null,
   "metadata": {
    "slideshow": {
     "slide_type": "subslide"
    }
   },
   "outputs": [],
   "source": [
    "class RingedPlanet(Planet):\n",
    "    \n",
    "    def cal_rings(self):\n",
    "        # Just an example, you can't actually calculate the number of rings with this\n",
    "        return len(self.name)*self.radius**5.3\n",
    "        \n",
    "another_planet = RingedPlanet(\"Saturn\", 58.2e6, 5.7e26)\n",
    "print(another_planet.cal_rings())"
   ]
  },
  {
   "cell_type": "markdown",
   "metadata": {
    "slideshow": {
     "slide_type": "subslide"
    }
   },
   "source": [
    "### Pandas\n",
    "If you could think of the data as being in a spreadsheet, then pandas can help. Under the hood it includes numpy, so operations can be pretty fast."
   ]
  },
  {
   "cell_type": "code",
   "execution_count": null,
   "metadata": {
    "slideshow": {
     "slide_type": "subslide"
    }
   },
   "outputs": [],
   "source": [
    "data = {'a': [4.1, 10, 6.3],\n",
    "        'b': ['foo', 'bar', 'baz'],\n",
    "        'c': 42}\n",
    "data"
   ]
  },
  {
   "cell_type": "code",
   "execution_count": null,
   "metadata": {
    "slideshow": {
     "slide_type": "fragment"
    }
   },
   "outputs": [],
   "source": [
    "import pandas as pd\n",
    "df = pd.DataFrame(data)\n",
    "print(df)\n",
    "print(df['a'])\n",
    "print(df.info())"
   ]
  },
  {
   "cell_type": "markdown",
   "metadata": {},
   "source": [
    "### Astropy & Matplotlib\n",
    "Don't reinvent the wheel - converting between units, plotting sky coordinates or importing FITS-files? Use astropy. Matplotlib can help plot your results."
   ]
  },
  {
   "cell_type": "markdown",
   "metadata": {
    "slideshow": {
     "slide_type": "slide"
    }
   },
   "source": [
    "## Speed up your code\n",
    "\n",
    "* Less than 1000 elements? Python objects like a list are fine. \n",
    "* More than 1000? Start thinking about using numpy. \n",
    "* Over 10000? Use numpy"
   ]
  },
  {
   "cell_type": "markdown",
   "metadata": {},
   "source": [
    "### Numpy\n",
    "\n",
    "* Fast for calculations.\n",
    "* Use it as soon as you use do calculations on numbers, even if it's an overkill, it will help you get familiar with it\n",
    "* Look into masking - an essential concept in numpy"
   ]
  },
  {
   "cell_type": "code",
   "execution_count": null,
   "metadata": {},
   "outputs": [],
   "source": [
    "import numpy as np"
   ]
  },
  {
   "cell_type": "code",
   "execution_count": null,
   "metadata": {},
   "outputs": [],
   "source": [
    "a = np.array([1, 2, 3, 4])\n",
    "mask = a>2\n",
    "b = a[mask]\n",
    "print(a, mask, b)"
   ]
  },
  {
   "cell_type": "markdown",
   "metadata": {
    "slideshow": {
     "slide_type": "subslide"
    }
   },
   "source": [
    "### Ufuncs"
   ]
  },
  {
   "cell_type": "code",
   "execution_count": null,
   "metadata": {},
   "outputs": [],
   "source": [
    "g = np.array([1, 2, 3, 4])\n",
    "np.sin(g)"
   ]
  },
  {
   "cell_type": "code",
   "execution_count": null,
   "metadata": {},
   "outputs": [],
   "source": [
    "def step_function(x):\n",
    "    if x > 0:\n",
    "        return 1\n",
    "    else:\n",
    "        return 0\n",
    "\n",
    "ar = np.array([-10, 10, 100])\n",
    "step_function(ar)"
   ]
  },
  {
   "cell_type": "code",
   "execution_count": null,
   "metadata": {
    "slideshow": {
     "slide_type": "fragment"
    }
   },
   "outputs": [],
   "source": [
    "ustep_function = np.vectorize(step_function)\n",
    "\n",
    "ustep_function(ar)"
   ]
  },
  {
   "cell_type": "markdown",
   "metadata": {
    "slideshow": {
     "slide_type": "subslide"
    }
   },
   "source": [
    "### Numba"
   ]
  },
  {
   "cell_type": "code",
   "execution_count": null,
   "metadata": {},
   "outputs": [],
   "source": [
    "ar = np.random.random(12345678)\n",
    "\n",
    "# Silly function\n",
    "def step_function_python(a):\n",
    "    output = np.zeros_like(a)\n",
    "    for i, nr in enumerate(a):\n",
    "        if nr > 0:\n",
    "            output[i] = 1 \n",
    "\n",
    "%time step_function_python(ar)"
   ]
  },
  {
   "cell_type": "code",
   "execution_count": null,
   "metadata": {
    "slideshow": {
     "slide_type": "subslide"
    }
   },
   "outputs": [],
   "source": [
    "# Numpy version of step function\n",
    "def step_function_numpy(a):\n",
    "    output = np.zeros_like(a)\n",
    "    a[a > 0] = 1\n",
    "    \n",
    "\n",
    "%time step_function_numpy(ar)"
   ]
  },
  {
   "cell_type": "code",
   "execution_count": null,
   "metadata": {
    "slideshow": {
     "slide_type": "subslide"
    }
   },
   "outputs": [],
   "source": [
    "import numba as nb"
   ]
  },
  {
   "cell_type": "code",
   "execution_count": null,
   "metadata": {},
   "outputs": [],
   "source": [
    "@nb.jit()\n",
    "def step_function_python(a):\n",
    "    output = np.zeros_like(a)\n",
    "    for i, nr in enumerate(a):\n",
    "        if nr > 0:\n",
    "            output[i] = 1\n",
    "\n",
    "%time step_function_python(ar)\n",
    "%time step_function_python(ar)\n",
    "%time step_function_python(ar)"
   ]
  }
 ],
 "metadata": {
  "kernelspec": {
   "display_name": "Python 3",
   "language": "python",
   "name": "python3"
  },
  "language_info": {
   "codemirror_mode": {
    "name": "ipython",
    "version": 3
   },
   "file_extension": ".py",
   "mimetype": "text/x-python",
   "name": "python",
   "nbconvert_exporter": "python",
   "pygments_lexer": "ipython3",
   "version": "3.6.6"
  },
  "toc": {
   "base_numbering": 1,
   "nav_menu": {},
   "number_sections": true,
   "sideBar": true,
   "skip_h1_title": false,
   "title_cell": "Table of Contents",
   "title_sidebar": "Contents",
   "toc_cell": true,
   "toc_position": {
    "height": "calc(100% - 180px)",
    "left": "10px",
    "top": "150px",
    "width": "349.091px"
   },
   "toc_section_display": true,
   "toc_window_display": true
  }
 },
 "nbformat": 4,
 "nbformat_minor": 2
}
