{
 "cells": [
  {
   "cell_type": "markdown",
   "metadata": {
    "slideshow": {
     "slide_type": "slide"
    }
   },
   "source": [
    "# Insights in Python\n",
    "\n",
    "*David Gardenier & Leon Oostrum | ASTRON | University of Amsterdam*\n",
    "\n",
    "Based on materials from the [2018 Asterics and Obelics School](https://indico.in2p3.fr/event/16864/)"
   ]
  },
  {
   "cell_type": "code",
   "execution_count": null,
   "metadata": {
    "slideshow": {
     "slide_type": "notes"
    }
   },
   "outputs": [],
   "source": [
    "%matplotlib inline\n",
    "from IPython.core.magic import register_line_magic\n",
    "from astropy.visualization import quantity_support\n",
    "import numpy as np\n",
    "import numba as nb\n",
    "import pandas as pd\n",
    "import matplotlib as mpl\n",
    "\n",
    "# Set up plotting details\n",
    "plt = mpl.pyplot\n",
    "mpl.rcParams['figure.figsize'] = (10, 5)\n",
    "plt.rcParams['font.size'] = 16\n",
    "plt.rcParams['lines.linewidth'] = 2\n",
    "\n",
    "# Beautify error messages\n",
    "@register_line_magic\n",
    "def shorterr(line):\n",
    "    \"\"\"Show only the exception message if one is raised.\"\"\"\n",
    "    try:\n",
    "        output = eval(line)\n",
    "    except Exception as e:\n",
    "        print(\"\\x1b[31m\\x1b[1m{e.__class__.__name__}: {e}\\x1b[0m\".format(e=e))\n",
    "    else:\n",
    "        return output\n",
    "    \n",
    "del shorterr"
   ]
  },
  {
   "cell_type": "markdown",
   "metadata": {
    "slideshow": {
     "slide_type": "slide"
    }
   },
   "source": [
    "## Contents\n",
    "\n",
    " - [Working with code](#working-with-code)\n",
    "     - IPython\n",
    "     - IDEs\n",
    "     - Jupyter\n",
    "     - Git\n",
    "     - Github / Travis / Coveralls\n",
    "     - VirtualEnv / Conda"
   ]
  },
  {
   "cell_type": "markdown",
   "metadata": {
    "slideshow": {
     "slide_type": "subslide"
    }
   },
   "source": [
    " - [Good coding practices](#good-code)\n",
    "     - Docstrings\n",
    "     - Doctest\n",
    "     - Unit Testing\n",
    "     - Debugging\n",
    "     - Profiling"
   ]
  },
  {
   "cell_type": "markdown",
   "metadata": {
    "slideshow": {
     "slide_type": "subslide"
    }
   },
   "source": [
    "  - [Speeding up code](#speeding-up-code)\n",
    "     - Numpy (incl. ufuncs) \n",
    "     - Numba"
   ]
  },
  {
   "cell_type": "markdown",
   "metadata": {
    "slideshow": {
     "slide_type": "subslide"
    }
   },
   "source": [
    " - [Timesavers](#timesavers)\n",
    "     - fstrings\n",
    "     - Classes\n",
    "     - Decorators     \n",
    "     - Pandas\n",
    "     - Astropy\n",
    "     - Matplotlib"
   ]
  },
  {
   "cell_type": "markdown",
   "metadata": {
    "slideshow": {
     "slide_type": "subslide"
    }
   },
   "source": [
    " - [Fun stuff](#fun-stuff)\n",
    "     - Julia\n",
    "     - Machine Learning"
   ]
  },
  {
   "cell_type": "markdown",
   "metadata": {
    "slideshow": {
     "slide_type": "slide"
    }
   },
   "source": [
    "## Working with code <a name=\"working-with-code\"></a>"
   ]
  },
  {
   "cell_type": "markdown",
   "metadata": {
    "slideshow": {
     "slide_type": "subslide"
    }
   },
   "source": [
    "### IPython\n",
    "\n",
    "Still typing `python` to test things out in Python? Use `ipython` instead - it allows you to adapt code with a lot more ease. \n",
    "\n",
    "Try for instance typing, and changing, a function in both `python` and `ipython`"
   ]
  },
  {
   "cell_type": "code",
   "execution_count": null,
   "metadata": {},
   "outputs": [],
   "source": [
    "def function(x):\n",
    "    a = 2\n",
    "    c = 10\n",
    "    return a*x + c"
   ]
  },
  {
   "cell_type": "markdown",
   "metadata": {
    "slideshow": {
     "slide_type": "subslide"
    }
   },
   "source": [
    "### Integrated Development Environment (IDE)\n",
    "Still using `gedit`, notepad and other such programs? You'll find IDEs will help you save time by helping completing functions, providing code templates and more.\n",
    "\n",
    "Code a lot in Python? Try out [Atom](https://atom.io/), [Pycharm](https://www.jetbrains.com/pycharm/) etc."
   ]
  },
  {
   "cell_type": "markdown",
   "metadata": {
    "slideshow": {
     "slide_type": "subslide"
    }
   },
   "source": [
    "#### For instance, from autocompleting code ...\n",
    "![auto_complete](media/auto_complete.gif)"
   ]
  },
  {
   "cell_type": "markdown",
   "metadata": {
    "slideshow": {
     "slide_type": "subslide"
    }
   },
   "source": [
    "#### ... to check for mistakes ...\n",
    "![linter](media/linter.gif)"
   ]
  },
  {
   "cell_type": "markdown",
   "metadata": {
    "slideshow": {
     "slide_type": "subslide"
    }
   },
   "source": [
    "#### ... and interactive coding\n",
    "![hydrogen](media/hydrogen.gif)"
   ]
  },
  {
   "cell_type": "markdown",
   "metadata": {
    "slideshow": {
     "slide_type": "subslide"
    }
   },
   "source": [
    "### Jupyter\n",
    "\n",
    "Wanting to quickly explore data? `jupyter notebook` or `jupyter lab` provide an easy way to interactively run just the parts of the code you want to change. While they don't have the functionality of an IDE, for purely exploratory or tutorial reasons they can be pretty convenient as they encourage text amongst code. "
   ]
  },
  {
   "cell_type": "markdown",
   "metadata": {
    "slideshow": {
     "slide_type": "subslide"
    }
   },
   "source": [
    "![lab](media/jupyter_lab.gif)"
   ]
  },
  {
   "cell_type": "markdown",
   "metadata": {
    "slideshow": {
     "slide_type": "subslide"
    }
   },
   "source": [
    "### Git\n",
    "\n",
    "Everyone should use git. Seriously. You'll no longer need to worry about breaking a working version of your code. Don't worry about learning all the commands - these days there are GUIs like [Gitkraken](https://www.gitkraken.com/) which do the hard work for you."
   ]
  },
  {
   "cell_type": "markdown",
   "metadata": {
    "slideshow": {
     "slide_type": "subslide"
    }
   },
   "source": [
    "#### What can it look like?\n",
    "![git-workflow](media/git_workflow.png)"
   ]
  },
  {
   "cell_type": "markdown",
   "metadata": {
    "slideshow": {
     "slide_type": "subslide"
    }
   },
   "source": [
    "### Github / Travis / Coveralls\n",
    "\n",
    "Want to have a backup of your data? Or collaborate on code without sending having to send through files or code fragments? Check out [Github](https://github.com/) and apply for a [Student Developer Pack](https://education.github.com/pack) or an [Academic Research Pack](https://help.github.com/articles/applying-for-an-academic-research-discount/).\n",
    "\n",
    "Want your code to automatically be tested when it arrives on Github? Try linking it up with [Travis](https://travis-ci.org/)\n",
    "\n",
    "And want to know which percentage of your code you've tested? Then try [Coveralls](https://travis-ci.org/)"
   ]
  },
  {
   "cell_type": "markdown",
   "metadata": {
    "slideshow": {
     "slide_type": "-"
    }
   },
   "source": [
    "![git_badges](media/badges.png)"
   ]
  },
  {
   "cell_type": "markdown",
   "metadata": {
    "slideshow": {
     "slide_type": "subslide"
    }
   },
   "source": [
    "### VirtualEnv / Conda\n",
    "Ensuring your results can be replicated is crucial. Especially if it's yourself at the end of your PhD. How can you do that? By keeping your software dependancies in their own environment. There are two common methods:\n",
    "\n",
    "1. Virtual Environments\n",
    "2. Conda\n",
    "\n",
    "How do you set these up?"
   ]
  },
  {
   "cell_type": "code",
   "execution_count": null,
   "metadata": {
    "slideshow": {
     "slide_type": "subslide"
    }
   },
   "outputs": [],
   "source": [
    "# Check which python you're running\n",
    "! which python\n",
    "\n",
    "# Make a project folder for your antelope code\n",
    "! mkdir ~/Downloads/antelope\n",
    "\n",
    "# Set up a virtual enviroment\n",
    "! python3 -m venv ~/Downloads/antelope/example-env\n",
    "\n",
    "# Activate the virtual enviroment\n",
    "! source ~/Downloads/antelope/bin/activate"
   ]
  },
  {
   "cell_type": "markdown",
   "metadata": {
    "slideshow": {
     "slide_type": "subslide"
    }
   },
   "source": [
    "#### P.S. Bash aliases are amazing\n",
    "\n",
    "If you're not using bash aliases - look into them. For instance, to start up a project in the morning I will simply type `antelope` which immediately does this:\n",
    "\n",
    "```\n",
    "alias antelope = 'cd ~/Downloads/antelope; source ./bin/activate; atom .'\n",
    "```"
   ]
  },
  {
   "cell_type": "markdown",
   "metadata": {
    "slideshow": {
     "slide_type": "slide"
    }
   },
   "source": [
    "## Good coding practices <a name=\"good-code\"></a>"
   ]
  },
  {
   "cell_type": "markdown",
   "metadata": {
    "slideshow": {
     "slide_type": "subslide"
    }
   },
   "source": [
    "### Docstrings\n",
    "\n",
    "Want to understand what somebody did? Use docstrings. If you follow a template, you can even use them in some useful ways."
   ]
  },
  {
   "cell_type": "code",
   "execution_count": null,
   "metadata": {
    "slideshow": {
     "slide_type": "subslide"
    }
   },
   "outputs": [],
   "source": [
    "def func(arg1, arg2):\n",
    "    \"\"\"Summary line.\n",
    "\n",
    "    Extended description of function.\n",
    "\n",
    "    Args:\n",
    "        arg1 (int): Description of arg1\n",
    "        arg2 (str): Description of arg2\n",
    "\n",
    "    Returns:\n",
    "        bool: Description of return value\n",
    "\n",
    "    Raises:\n",
    "        ValueError: If `arg2` is equal to `arg1`.\n",
    "\n",
    "    Examples:\n",
    "        Examples should be written in doctest format, and should illustrate how\n",
    "        to use the function.\n",
    "\n",
    "        >>> a = [1,2,3]\n",
    "        >>> print([x + 3 for x in a])\n",
    "        [4, 5, 6]\n",
    "\n",
    "    \"\"\"\n",
    "    if arg1 == arg2:\n",
    "        raise ValueError('arg1 may not be equal to arg2')\n",
    "    return True"
   ]
  },
  {
   "cell_type": "markdown",
   "metadata": {
    "slideshow": {
     "slide_type": "subslide"
    }
   },
   "source": [
    "### Doctest"
   ]
  },
  {
   "cell_type": "code",
   "execution_count": null,
   "metadata": {},
   "outputs": [],
   "source": [
    "def fib(n):\n",
    "    \"\"\"Calculates the n-th Fibonacci number.  \n",
    "\n",
    "    >>> fib(0)\n",
    "    0\n",
    "    >>> fib(15)\n",
    "    610\n",
    "    >>> \n",
    "\n",
    "    \"\"\"\n",
    "    a, b = 0, 1\n",
    "    for i in range(n):\n",
    "        a, b = b, a + b\n",
    "    return a"
   ]
  },
  {
   "cell_type": "markdown",
   "metadata": {
    "slideshow": {
     "slide_type": "subslide"
    }
   },
   "source": [
    "How do you run it?\n",
    "\n",
    "```\n",
    "$ python3 -m doctest -v <file>\n",
    "```\n",
    "\n",
    "Producing\n",
    "\n",
    "```\n",
    "Trying:\n",
    "    fib(0)\n",
    "Expecting:\n",
    "    0\n",
    "ok\n",
    "Trying:\n",
    "    fib(15)\n",
    "Expecting:\n",
    "    610\n",
    "ok\n",
    "1 items had no tests:\n",
    "    test\n",
    "1 items passed all tests:\n",
    "   2 tests in test.fib\n",
    "2 tests in 2 items.\n",
    "2 passed and 0 failed.\n",
    "Test passed.\n",
    "```"
   ]
  },
  {
   "cell_type": "markdown",
   "metadata": {
    "slideshow": {
     "slide_type": "subslide"
    }
   },
   "source": [
    "### Unit Testing\n",
    "\n",
    "Creating automated testing of your code is important. You're going to be testing it while writing your code, so why not automise it so that you can easily run those test again? Doctests can work, but there's also `unittest`."
   ]
  },
  {
   "cell_type": "code",
   "execution_count": null,
   "metadata": {
    "slideshow": {
     "slide_type": "subslide"
    }
   },
   "outputs": [],
   "source": [
    "import unittest\n",
    "\n",
    "# Define the function\n",
    "def fun(x):\n",
    "    return x + 1\n",
    "\n",
    "# Define the tests\n",
    "class MyTest(unittest.TestCase):\n",
    "    def test(self):\n",
    "        self.assertEqual(fun(3), 4)\n",
    "\n",
    "# Run the unit test (the argv is just for jupyter notebooks)\n",
    "if  __name__  == '__main__':\n",
    "    unittest.main(argv=['first-arg-is-ignored'], exit=False)"
   ]
  },
  {
   "cell_type": "markdown",
   "metadata": {
    "slideshow": {
     "slide_type": "subslide"
    }
   },
   "source": [
    "### Debugging\n",
    "\n",
    "Most people simply use `print()` statements to debug. But you can do better than that..."
   ]
  },
  {
   "cell_type": "code",
   "execution_count": null,
   "metadata": {},
   "outputs": [],
   "source": [
    "import time\n",
    "\n",
    "def complicated_function():\n",
    "    time.sleep(2)\n",
    "    x, y, z = 1, '2', 3\n",
    "    \n",
    "    # Usually you might do this\n",
    "    print(x)\n",
    "    \n",
    "    return y+3\n",
    "    \n",
    "complicated_function()"
   ]
  },
  {
   "cell_type": "code",
   "execution_count": null,
   "metadata": {
    "slideshow": {
     "slide_type": "subslide"
    }
   },
   "outputs": [],
   "source": [
    "import time\n",
    "\n",
    "def complicated_function():\n",
    "    time.sleep(0.5)\n",
    "    x, y, z = 1, '2', 3\n",
    "    \n",
    "    # But how about\n",
    "    import IPython; IPython.embed()\n",
    "    \n",
    "    return y+3\n",
    "    \n",
    "complicated_function()"
   ]
  },
  {
   "cell_type": "markdown",
   "metadata": {
    "slideshow": {
     "slide_type": "subslide"
    }
   },
   "source": [
    "Let's try this again, but with a more complicated traceback"
   ]
  },
  {
   "cell_type": "code",
   "execution_count": null,
   "metadata": {},
   "outputs": [],
   "source": [
    "def upper_func(x):\n",
    "    return x + 1 + 'error'\n",
    "\n",
    "def middle_func(x):\n",
    "    return upper_func(x) + 1\n",
    "\n",
    "def lower_func(x):\n",
    "    return middle_func(x) + 1\n",
    "\n",
    "for i in range(1):\n",
    "    answer = lower_func(i)\n",
    "\n",
    "print(answer)"
   ]
  },
  {
   "cell_type": "markdown",
   "metadata": {
    "slideshow": {
     "slide_type": "subslide"
    }
   },
   "source": [
    "Using ipdb (IPython DeBugging tool), you can navigate the trackback (up/down), print variables (print) and continue with code execution (continue)"
   ]
  },
  {
   "cell_type": "code",
   "execution_count": null,
   "metadata": {},
   "outputs": [],
   "source": [
    "def upper_func(x):\n",
    "    return x + 1 + 'error'\n",
    "\n",
    "def middle_func(x):\n",
    "    import pdb; pdb.set_trace()\n",
    "    return upper_func(x) + 1\n",
    "\n",
    "def lower_func(x):\n",
    "    return middle_func(x) + 1\n",
    "\n",
    "for i in range(10):\n",
    "    answer = lower_func(i)"
   ]
  },
  {
   "cell_type": "markdown",
   "metadata": {
    "slideshow": {
     "slide_type": "subslide"
    }
   },
   "source": [
    "### Profiling\n",
    "\n",
    "The simplest is using the `time` or `timeit` library. In a jupyter notebook it can be invoked using"
   ]
  },
  {
   "cell_type": "code",
   "execution_count": null,
   "metadata": {
    "slideshow": {
     "slide_type": "-"
    }
   },
   "outputs": [],
   "source": [
    "%%time\n",
    "\n",
    "def upper_func(x):\n",
    "    return x + 1\n",
    "\n",
    "def middle_func(x):\n",
    "    [upper_func(i) for i in range(10000)]\n",
    "    return upper_func(x) + 1\n",
    "\n",
    "def lower_func(x):\n",
    "    time.sleep(1)\n",
    "    return middle_func(x) + 1\n",
    "\n",
    "lower_func(5)"
   ]
  },
  {
   "cell_type": "code",
   "execution_count": null,
   "metadata": {
    "slideshow": {
     "slide_type": "subslide"
    }
   },
   "outputs": [],
   "source": [
    "%%timeit\n",
    "\n",
    "def upper_func(x):\n",
    "    return x + 1\n",
    "\n",
    "def middle_func(x):\n",
    "    [upper_func(i) for i in range(10000)]\n",
    "    return upper_func(x) + 1\n",
    "\n",
    "def lower_func(x):\n",
    "    time.sleep(1)\n",
    "    return middle_func(x) + 1\n",
    "\n",
    "lower_func(5)"
   ]
  },
  {
   "cell_type": "markdown",
   "metadata": {
    "slideshow": {
     "slide_type": "subslide"
    }
   },
   "source": [
    "But where's the slowest part? Try profiling your code using a bash function\n",
    "\n",
    "```\n",
    "profile() { python3 -m cProfile -o ~/Downloads/temp.profile $1; snakeviz ~/Downloads/temp.profile;}\n",
    "```"
   ]
  },
  {
   "cell_type": "markdown",
   "metadata": {
    "slideshow": {
     "slide_type": "subslide"
    }
   },
   "source": [
    "Still not sure? Try line profiling your code using the bash function (you might need to pip install it first)\n",
    "```\n",
    "lineprofile() { kernprof -l -v $1;}\n",
    "```"
   ]
  },
  {
   "cell_type": "markdown",
   "metadata": {
    "slideshow": {
     "slide_type": "subslide"
    }
   },
   "source": [
    "#### psutil"
   ]
  },
  {
   "cell_type": "code",
   "execution_count": null,
   "metadata": {},
   "outputs": [],
   "source": [
    "from psutil import Process\n",
    "\n",
    "p = Process()\n",
    "p.cpu_percent()\n",
    "p.memory_full_info().rss / 1e6 # in MB"
   ]
  },
  {
   "cell_type": "markdown",
   "metadata": {
    "slideshow": {
     "slide_type": "subslide"
    }
   },
   "source": [
    "#### psrecord"
   ]
  },
  {
   "cell_type": "markdown",
   "metadata": {},
   "source": [
    "![psrecord](media/compute_and_io.png)"
   ]
  },
  {
   "cell_type": "markdown",
   "metadata": {
    "slideshow": {
     "slide_type": "slide"
    }
   },
   "source": [
    "## Speeding up code <a name=\"speeding-up-code\"></a>"
   ]
  },
  {
   "cell_type": "markdown",
   "metadata": {
    "slideshow": {
     "slide_type": "subslide"
    }
   },
   "source": [
    "### Numpy / Numba"
   ]
  },
  {
   "cell_type": "markdown",
   "metadata": {
    "slideshow": {
     "slide_type": "fragment"
    }
   },
   "source": [
    "#### Creating arrays"
   ]
  },
  {
   "cell_type": "code",
   "execution_count": null,
   "metadata": {},
   "outputs": [],
   "source": [
    "import numpy as np"
   ]
  },
  {
   "cell_type": "code",
   "execution_count": null,
   "metadata": {
    "slideshow": {
     "slide_type": "fragment"
    }
   },
   "outputs": [],
   "source": [
    "np.empty(10)"
   ]
  },
  {
   "cell_type": "code",
   "execution_count": null,
   "metadata": {},
   "outputs": [],
   "source": [
    "np.ones((4,10))"
   ]
  },
  {
   "cell_type": "markdown",
   "metadata": {
    "slideshow": {
     "slide_type": "subslide"
    }
   },
   "source": [
    "#### You can set the data type"
   ]
  },
  {
   "cell_type": "code",
   "execution_count": null,
   "metadata": {
    "slideshow": {
     "slide_type": "-"
    }
   },
   "outputs": [],
   "source": [
    "np.eye(5, dtype=int)"
   ]
  },
  {
   "cell_type": "code",
   "execution_count": null,
   "metadata": {
    "slideshow": {
     "slide_type": "fragment"
    }
   },
   "outputs": [],
   "source": [
    "a = np.eye(5, dtype=int)\n",
    "np.ones_like(a)"
   ]
  },
  {
   "cell_type": "markdown",
   "metadata": {
    "slideshow": {
     "slide_type": "subslide"
    }
   },
   "source": [
    "#### Broadcasting"
   ]
  },
  {
   "cell_type": "code",
   "execution_count": null,
   "metadata": {
    "slideshow": {
     "slide_type": "fragment"
    }
   },
   "outputs": [],
   "source": [
    "g = np.array([1, 2, 3, 4])\n",
    "h = np.array([5, 6, 7, 8])\n",
    "g * h  # if the shapes match, operations are usually done element-by-element"
   ]
  },
  {
   "cell_type": "code",
   "execution_count": null,
   "metadata": {
    "slideshow": {
     "slide_type": "fragment"
    }
   },
   "outputs": [],
   "source": [
    "g * 23 # the rule relaxes when the shapes meet certain constraints"
   ]
  },
  {
   "cell_type": "markdown",
   "metadata": {
    "slideshow": {
     "slide_type": "notes"
    }
   },
   "source": [
    "### Broadcasting rules\n",
    "- NumPy compares the shapes element-wise, starting with the trailing dimension\n",
    "- two dimensions are compatible if they are equal or one of them is __1__\n",
    "- raises a `ValueError: frames are not aligned` if the shapes are incompatible\n",
    "- the size of a successfully broadcasted array is the maximum size along each dimension of the input arrays"
   ]
  },
  {
   "cell_type": "markdown",
   "metadata": {
    "slideshow": {
     "slide_type": "subslide"
    }
   },
   "source": [
    "### Operation on two arrays with different shapes\n",
    "```\n",
    "A      (4d array):  5 x 1 x 4 x 1\n",
    "B      (3d array):      7 x 1 x 5\n",
    "Result (4d array):  5 x 7 x 4 x 5\n",
    "```"
   ]
  },
  {
   "cell_type": "code",
   "execution_count": null,
   "metadata": {
    "slideshow": {
     "slide_type": "fragment"
    }
   },
   "outputs": [],
   "source": [
    "A = np.array([[1, 2, 3], [4, 5, 6]])\n",
    "B = np.array([[1], [2]])\n",
    "C = A + B\n",
    "\n",
    "print(f\"A shape: {A.shape}\")\n",
    "print(f\"B shape: {B.shape}\")\n",
    "print(f\"C shape: {C.shape}\")\n",
    "\n",
    "print(C)"
   ]
  },
  {
   "cell_type": "markdown",
   "metadata": {
    "slideshow": {
     "slide_type": "subslide"
    }
   },
   "source": [
    "#### Universal functions"
   ]
  },
  {
   "cell_type": "markdown",
   "metadata": {
    "slideshow": {
     "slide_type": "notes"
    }
   },
   "source": [
    "#### A `ufunc` is a \"vectorized\" wrapper for a function that takes a fixed number of scalar inputs and produces a fixed number of scalar outputs.\n",
    "\n",
    "NumPy provides a bunch of `ufunc`s:\n",
    "- Math operations (`add()`, `subtract()`, `square()`, `log10()`, ...)\n",
    "- Trigonometric functions (`sin()`, `cos()`, `tan()`, `deg2rad()`, ...)\n",
    "- Bit-twiddling functions (`bitwise_and()`, `right_shift()`, ...)\n",
    "- Comparison functions (`greater()`, `less_equal()`, `fmax()`, ...)\n",
    "- Floating functions (`isnan()`, `isinf()`, `floor()`, ...)\n",
    "    \n",
    "They all are subclasses of `np.ufunc`"
   ]
  },
  {
   "cell_type": "markdown",
   "metadata": {},
   "source": [
    "#### A ufunc is a \"vectorized\" wrapper for a function"
   ]
  },
  {
   "cell_type": "code",
   "execution_count": null,
   "metadata": {
    "slideshow": {
     "slide_type": "-"
    }
   },
   "outputs": [],
   "source": [
    "def step_function(x):\n",
    "    if x > 0:\n",
    "        return 1\n",
    "    else:\n",
    "        return 0\n",
    "\n",
    "ar = np.array([-10, 10, 100])\n",
    "%shorterr step_function(ar)"
   ]
  },
  {
   "cell_type": "code",
   "execution_count": null,
   "metadata": {
    "slideshow": {
     "slide_type": "fragment"
    }
   },
   "outputs": [],
   "source": [
    "ustep_function = np.vectorize(step_function)\n",
    "\n",
    "ustep_function(ar)"
   ]
  },
  {
   "cell_type": "markdown",
   "metadata": {
    "slideshow": {
     "slide_type": "subslide"
    }
   },
   "source": [
    "#### Speed up your code"
   ]
  },
  {
   "cell_type": "code",
   "execution_count": null,
   "metadata": {
    "slideshow": {
     "slide_type": "fragment"
    }
   },
   "outputs": [],
   "source": [
    "ar = np.random.random(12345678)\n",
    "\n",
    "# Silly function\n",
    "def step_function_python(a):\n",
    "    output = np.zeros_like(a)\n",
    "    for i, nr in enumerate(a):\n",
    "        if nr > 0:\n",
    "            output[i] = 1\n",
    "\n",
    "%time step_function_python(ar)"
   ]
  },
  {
   "cell_type": "code",
   "execution_count": null,
   "metadata": {
    "slideshow": {
     "slide_type": "subslide"
    }
   },
   "outputs": [],
   "source": [
    "# Numpy version of step function\n",
    "def step_function_numpy(a):\n",
    "    output = np.zeros_like(a)\n",
    "    a[a > 0] = 1\n",
    "    \n",
    "\n",
    "%time step_function_numpy(ar)"
   ]
  },
  {
   "cell_type": "code",
   "execution_count": null,
   "metadata": {
    "slideshow": {
     "slide_type": "subslide"
    }
   },
   "outputs": [],
   "source": [
    "@nb.jit()\n",
    "def step_function_python(a):\n",
    "    output = np.zeros_like(a)\n",
    "    for i, nr in enumerate(a):\n",
    "        if nr > 0:\n",
    "            output[i] = 1\n",
    "\n",
    "%time step_function_python(ar)\n",
    "%time step_function_python(ar)\n",
    "%time step_function_python(ar)"
   ]
  },
  {
   "cell_type": "markdown",
   "metadata": {
    "slideshow": {
     "slide_type": "slide"
    }
   },
   "source": [
    "## Timesavers <a name=\"timesavers\"></a>"
   ]
  },
  {
   "cell_type": "markdown",
   "metadata": {
    "slideshow": {
     "slide_type": "subslide"
    }
   },
   "source": [
    "### f-strings (Python 3.6+)"
   ]
  },
  {
   "cell_type": "code",
   "execution_count": null,
   "metadata": {
    "slideshow": {
     "slide_type": "fragment"
    }
   },
   "outputs": [],
   "source": [
    "first_name = \"James\"\n",
    "last_name = \"Bond\"\n",
    "\n",
    "# old style\n",
    "print(\"My name is %s %s\" % (first_name, last_name))"
   ]
  },
  {
   "cell_type": "code",
   "execution_count": null,
   "metadata": {
    "slideshow": {
     "slide_type": "fragment"
    }
   },
   "outputs": [],
   "source": [
    "# format syntax\n",
    "print(\"My name is {} {}\".format(first_name, last_name))\n",
    "# can change the order\n",
    "print(\"My name is {1}, {0} {1}\".format(first_name, last_name))"
   ]
  },
  {
   "cell_type": "code",
   "execution_count": null,
   "metadata": {
    "slideshow": {
     "slide_type": "fragment"
    }
   },
   "outputs": [],
   "source": [
    "# formated string (Python ≥ 3.6)\n",
    "print(f\"My name is {first_name} {last_name}\")"
   ]
  },
  {
   "cell_type": "code",
   "execution_count": null,
   "metadata": {
    "slideshow": {
     "slide_type": "fragment"
    }
   },
   "outputs": [],
   "source": [
    "x = 5\n",
    "print(f\"The solution is {np.exp(x)*5+2:.2f}\")"
   ]
  },
  {
   "cell_type": "markdown",
   "metadata": {
    "slideshow": {
     "slide_type": "subslide"
    }
   },
   "source": [
    "### Classes"
   ]
  },
  {
   "cell_type": "code",
   "execution_count": null,
   "metadata": {
    "slideshow": {
     "slide_type": "-"
    }
   },
   "outputs": [],
   "source": [
    "class Planet(object):\n",
    "    def __init__(self, name, radius, mass):\n",
    "        self.name = name\n",
    "        self.radius = radius\n",
    "        self.mass = mass\n",
    "        \n",
    "    def density(self):\n",
    "        return 3. * self.mass / (4 * np.pi * self.radius**3)\n",
    "\n",
    "    def __repr__(self):\n",
    "        return f\"This planet is {self.name}.\""
   ]
  },
  {
   "cell_type": "code",
   "execution_count": null,
   "metadata": {
    "slideshow": {
     "slide_type": "subslide"
    }
   },
   "outputs": [],
   "source": [
    "this_planet = Planet(\"Earth\", 6.4E6, 6.0E24)\n",
    "other_planet = Planet(\"Mars\", 3.4E6, 6.4E23)\n",
    "\n",
    "print(this_planet)"
   ]
  },
  {
   "cell_type": "code",
   "execution_count": null,
   "metadata": {
    "slideshow": {
     "slide_type": "-"
    }
   },
   "outputs": [],
   "source": [
    "for planet in (this_planet, other_planet):\n",
    "    print(f\"The density of {planet.name} is {planet.density():.2f} kg/m3\")"
   ]
  },
  {
   "cell_type": "markdown",
   "metadata": {
    "slideshow": {
     "slide_type": "subslide"
    }
   },
   "source": [
    "### Decorators"
   ]
  },
  {
   "cell_type": "code",
   "execution_count": null,
   "metadata": {
    "slideshow": {
     "slide_type": "fragment"
    }
   },
   "outputs": [],
   "source": [
    "import time\n",
    "\n",
    "def timer(function):\n",
    "    def wrapper():\n",
    "        tstart = time.time() * 1000\n",
    "        function()\n",
    "        tend = time.time() * 1000\n",
    "        print(f\"It took {tend-tstart:.2f} ms to run\")\n",
    "    return wrapper"
   ]
  },
  {
   "cell_type": "code",
   "execution_count": null,
   "metadata": {
    "scrolled": true,
    "slideshow": {
     "slide_type": "fragment"
    }
   },
   "outputs": [],
   "source": [
    "def some_function():\n",
    "    x = []\n",
    "    for i in range(100000):\n",
    "        x.append(i)\n",
    "    print(f\"The sum of the numbers is {np.sum(x)}\")\n",
    "    \n",
    "some_function()"
   ]
  },
  {
   "cell_type": "code",
   "execution_count": null,
   "metadata": {
    "slideshow": {
     "slide_type": "subslide"
    }
   },
   "outputs": [],
   "source": [
    "@timer\n",
    "def some_function():\n",
    "    x = []\n",
    "    for i in range(100000):\n",
    "        x.append(i)\n",
    "    print(f\"The sum of the numbers is {np.sum(x)}\")\n",
    "    \n",
    "some_function()"
   ]
  },
  {
   "cell_type": "markdown",
   "metadata": {
    "slideshow": {
     "slide_type": "subslide"
    }
   },
   "source": [
    "### Pandas"
   ]
  },
  {
   "cell_type": "code",
   "execution_count": null,
   "metadata": {
    "slideshow": {
     "slide_type": "subslide"
    }
   },
   "outputs": [],
   "source": [
    "data = {'a': [4.1, 10, 6.3],\n",
    "        'b': ['foo', 'bar', 'baz'],\n",
    "        'c': 42}\n",
    "data"
   ]
  },
  {
   "cell_type": "code",
   "execution_count": null,
   "metadata": {
    "slideshow": {
     "slide_type": "fragment"
    }
   },
   "outputs": [],
   "source": [
    "import pandas as pd\n",
    "df = pd.DataFrame(data)\n",
    "df"
   ]
  },
  {
   "cell_type": "code",
   "execution_count": null,
   "metadata": {
    "slideshow": {
     "slide_type": "fragment"
    }
   },
   "outputs": [],
   "source": [
    "df['a']"
   ]
  },
  {
   "cell_type": "code",
   "execution_count": null,
   "metadata": {},
   "outputs": [],
   "source": [
    "df.describe()"
   ]
  },
  {
   "cell_type": "code",
   "execution_count": null,
   "metadata": {
    "slideshow": {
     "slide_type": "subslide"
    }
   },
   "outputs": [],
   "source": [
    "df.plot()"
   ]
  },
  {
   "cell_type": "code",
   "execution_count": null,
   "metadata": {
    "slideshow": {
     "slide_type": "subslide"
    }
   },
   "outputs": [],
   "source": [
    "s = pd.Series(np.random.random(5))\n",
    "s"
   ]
  },
  {
   "cell_type": "code",
   "execution_count": null,
   "metadata": {
    "slideshow": {
     "slide_type": "fragment"
    }
   },
   "outputs": [],
   "source": [
    "s_sorted = s.sort_values()  # Indices are kept\n",
    "print(s_sorted)"
   ]
  },
  {
   "cell_type": "code",
   "execution_count": null,
   "metadata": {
    "slideshow": {
     "slide_type": "fragment"
    }
   },
   "outputs": [],
   "source": [
    "print(s_sorted[0])  # Return value with index 0"
   ]
  },
  {
   "cell_type": "code",
   "execution_count": null,
   "metadata": {
    "slideshow": {
     "slide_type": "fragment"
    }
   },
   "outputs": [],
   "source": [
    "print(s_sorted.loc[0])  # Return value with index 0"
   ]
  },
  {
   "cell_type": "code",
   "execution_count": null,
   "metadata": {
    "slideshow": {
     "slide_type": "fragment"
    }
   },
   "outputs": [],
   "source": [
    "print(s_sorted.iloc[0])  # Return first element"
   ]
  },
  {
   "cell_type": "markdown",
   "metadata": {
    "slideshow": {
     "slide_type": "subslide"
    }
   },
   "source": [
    "### Astropy / Matplotlib"
   ]
  },
  {
   "cell_type": "markdown",
   "metadata": {
    "slideshow": {
     "slide_type": "subslide"
    }
   },
   "source": [
    "#### Units and Quantities"
   ]
  },
  {
   "cell_type": "code",
   "execution_count": null,
   "metadata": {
    "slideshow": {
     "slide_type": "fragment"
    }
   },
   "outputs": [],
   "source": [
    "import astropy.constants as const\n",
    "import astropy.units as u\n",
    "\n",
    "# distance sun - earth\n",
    "distance_sun = 1 * u.au\n",
    "# speed of light\n",
    "speed = const.c\n",
    "# time\n",
    "time_sun = distance_sun / speed\n",
    "print(\"Light travels from sun to earth in {:.2f}\".format(time_sun.to('min')))"
   ]
  },
  {
   "cell_type": "code",
   "execution_count": null,
   "metadata": {
    "slideshow": {
     "slide_type": "subslide"
    }
   },
   "outputs": [],
   "source": [
    "@u.quantity_input(wavelength=u.nm, temperature=u.K)\n",
    "def blackbody(wavelength, temperature):\n",
    "    pre_factor = 2 * const.h * const.c**2 / wavelength**5\n",
    "    exponential_factor = 1. / (np.exp((const.h * const.c) / (wavelength * const.k_B * temperature)) - 1)\n",
    "    return pre_factor * exponential_factor"
   ]
  },
  {
   "cell_type": "code",
   "execution_count": null,
   "metadata": {
    "slideshow": {
     "slide_type": "-"
    }
   },
   "outputs": [],
   "source": [
    "temp = 6000 * u.K\n",
    "wav = np.linspace(300, 900) * u.nm\n",
    "radiance = blackbody(wav, temp).to('W m-2 nm-1')"
   ]
  },
  {
   "cell_type": "code",
   "execution_count": null,
   "metadata": {
    "slideshow": {
     "slide_type": "-"
    }
   },
   "outputs": [],
   "source": [
    "wav = np.linspace(300, 900) * u.Hz\n",
    "%shorterr blackbody(wav, temp) "
   ]
  },
  {
   "cell_type": "code",
   "execution_count": null,
   "metadata": {
    "scrolled": true,
    "slideshow": {
     "slide_type": "subslide"
    }
   },
   "outputs": [],
   "source": [
    "with quantity_support():\n",
    "    plt.plot(wav, radiance)"
   ]
  },
  {
   "cell_type": "markdown",
   "metadata": {
    "slideshow": {
     "slide_type": "subslide"
    }
   },
   "source": [
    "#### Coordinates"
   ]
  },
  {
   "cell_type": "code",
   "execution_count": null,
   "metadata": {
    "slideshow": {
     "slide_type": "fragment"
    }
   },
   "outputs": [],
   "source": [
    "from astropy.coordinates import SkyCoord\n",
    "\n",
    "coord_crab = SkyCoord.from_name('crab')\n",
    "galactic_center = SkyCoord(0, 0, unit='deg', frame='galactic')\n",
    "coord_crab.separation(galactic_center)"
   ]
  },
  {
   "cell_type": "markdown",
   "metadata": {},
   "source": [
    "#### You can plot source visibility curves\n",
    "\n",
    "![crab](media/crab_visibility.png)"
   ]
  },
  {
   "cell_type": "code",
   "execution_count": null,
   "metadata": {
    "slideshow": {
     "slide_type": "notes"
    }
   },
   "outputs": [],
   "source": [
    "from astropy.coordinates import EarthLocation, AltAz\n",
    "from astropy.time import Time\n",
    "import numpy as np\n",
    "from astropy.visualization import quantity_support\n",
    "\n",
    "# current location\n",
    "here = EarthLocation(lat=52.354283*u.deg, lon=4.955042*u.deg)\n",
    "\n",
    "# Array of times\n",
    "time_intervals = np.linspace(-.5 * u.day, .5 *u.day, 100)\n",
    "times = Time.now() + time_intervals\n",
    "\n",
    "# Get AltAz coordinates\n",
    "altaz = AltAz(obstime=times, location=here)\n",
    "crab_altaz = coord_crab.transform_to(altaz)\n",
    "\n",
    "# Get altitude \n",
    "altitudes = crab_altaz.alt.to('deg')\n",
    "alt_min = 20 * u.deg\n",
    "alt_max = 50 * u.deg\n",
    "visible = (altitudes > alt_min) & (altitudes < alt_max)\n",
    "\n",
    "with quantity_support():\n",
    "    plt.plot_date(times.plot_date, altitudes, fmt='-')\n",
    "    plt.gcf().autofmt_xdate()\n",
    "    plt.xlim(times.plot_date[0], times.plot_date[-1])\n",
    "    plt.axhline(0, ls='--', c='k')\n",
    "    plt.xlabel('Date')\n",
    "    plt.ylabel('Altitude (deg)')"
   ]
  },
  {
   "cell_type": "markdown",
   "metadata": {
    "slideshow": {
     "slide_type": "subslide"
    }
   },
   "source": [
    "   #### Sky images"
   ]
  },
  {
   "cell_type": "code",
   "execution_count": null,
   "metadata": {
    "slideshow": {
     "slide_type": "fragment"
    }
   },
   "outputs": [],
   "source": [
    "from astropy.io import fits\n",
    "from astropy.wcs import WCS\n",
    "from astropy.visualization import AsinhStretch\n",
    "\n",
    "filenames = ['data/casa_0.5-1.5keV.fits.gz', 'data/casa_1.5-3.0keV.fits.gz', 'data/casa_4.0-6.0keV.fits.gz']\n",
    "\n",
    "# use asinh stretching to brighten up the image\n",
    "stretch = AsinhStretch(0.04)\n",
    "\n",
    "data_rgb = []\n",
    "\n",
    "for filename in filenames:\n",
    "    image_hdu = fits.open(filename)['PRIMARY']\n",
    "    wcs = WCS(image_hdu.header)\n",
    "    data = image_hdu.data\n",
    "    data /= data.max()\n",
    "    data = stretch(data)\n",
    "    data_rgb.append(data)\n",
    "\n",
    "data_rgb_stacked = np.stack(data_rgb, axis=2)"
   ]
  },
  {
   "cell_type": "code",
   "execution_count": null,
   "metadata": {
    "slideshow": {
     "slide_type": "subslide"
    }
   },
   "outputs": [],
   "source": [
    "plt.figure(figsize=(10, 10))\n",
    "ax = plt.subplot(projection=wcs)\n",
    "ax.imshow(data_rgb_stacked, origin='lower')\n",
    "ax.coords['ra'].set_major_formatter('hh:mm:ss')\n",
    "\n",
    "ax.set_xlabel('RA')\n",
    "ax.set_ylabel('DEC')"
   ]
  },
  {
   "cell_type": "markdown",
   "metadata": {
    "slideshow": {
     "slide_type": "slide"
    }
   },
   "source": [
    "## Fun Stuff <a name=\"fun-stuff\"></a>"
   ]
  },
  {
   "cell_type": "markdown",
   "metadata": {
    "slideshow": {
     "slide_type": "subslide"
    }
   },
   "source": [
    "### Julia\n",
    "\n",
    "Python's great - but so was Fortran back in the day. Where is the momentum heading? At the moment Python and C are remaining fairly stable, but one of the favoured contenders is `Julia`."
   ]
  },
  {
   "cell_type": "markdown",
   "metadata": {
    "slideshow": {
     "slide_type": "subslide"
    }
   },
   "source": [
    "#### How does it compare?\n",
    "![julia](media/julia_performance.png)"
   ]
  },
  {
   "cell_type": "markdown",
   "metadata": {
    "slideshow": {
     "slide_type": "subslide"
    }
   },
   "source": [
    "#### Why is it popular?\n",
    "\n",
    "The speed is equivalent to `C`, yet it has the declarative power of Python. It uses a tree-like model to declare variables, making it pretty fast."
   ]
  },
  {
   "cell_type": "markdown",
   "metadata": {
    "slideshow": {
     "slide_type": "subslide"
    }
   },
   "source": [
    "### Machine Learning"
   ]
  },
  {
   "cell_type": "markdown",
   "metadata": {
    "slideshow": {
     "slide_type": "subslide"
    }
   },
   "source": [
    "#### What is \"Machine Learning\"?\n",
    "\n",
    "Using **machines** to **learn** how to explain data with models."
   ]
  },
  {
   "cell_type": "markdown",
   "metadata": {
    "slideshow": {
     "slide_type": "fragment"
    }
   },
   "source": [
    "The \"machines\" responsible for most of the progress in ML are:\n",
    " - software algorithms\n",
    " - hardware architectures\n",
    " - human ingenuity\n",
    " "
   ]
  },
  {
   "cell_type": "markdown",
   "metadata": {
    "slideshow": {
     "slide_type": "notes"
    }
   },
   "source": [
    "The \"learning\" consists of passively identifying statistical correlations, which is very different from how we learn with active experimentation and identifying causal relationships."
   ]
  },
  {
   "cell_type": "markdown",
   "metadata": {
    "slideshow": {
     "slide_type": "subslide"
    }
   },
   "source": [
    "#### What is a Model?\n",
    "\n",
    "Two important types of models: generative, probabilistic."
   ]
  },
  {
   "cell_type": "markdown",
   "metadata": {
    "slideshow": {
     "slide_type": "fragment"
    }
   },
   "source": [
    "All ML algorithms use a model to explain your data."
   ]
  },
  {
   "cell_type": "markdown",
   "metadata": {
    "slideshow": {
     "slide_type": "fragment"
    }
   },
   "source": [
    "Models have parameters. Parameters of the ML algorithm are _hyperparameters_"
   ]
  },
  {
   "cell_type": "markdown",
   "metadata": {
    "slideshow": {
     "slide_type": "subslide"
    }
   },
   "source": [
    "![models1](media/models1.png)"
   ]
  },
  {
   "cell_type": "markdown",
   "metadata": {
    "slideshow": {
     "slide_type": "subslide"
    }
   },
   "source": [
    "#### What is Learning?"
   ]
  },
  {
   "cell_type": "markdown",
   "metadata": {
    "slideshow": {
     "slide_type": "fragment"
    }
   },
   "source": [
    "Three broad types of learning:"
   ]
  },
  {
   "cell_type": "markdown",
   "metadata": {
    "slideshow": {
     "slide_type": "subslide"
    }
   },
   "source": [
    " - **Unsupervised: learn to predict new data.**\n",
    "   - Given data: what patterns are present? (learn a model).\n",
    "   - Given data and model: how likely is new data to be from same model? (generate new data)."
   ]
  },
  {
   "cell_type": "markdown",
   "metadata": {
    "slideshow": {
     "slide_type": "subslide"
    }
   },
   "source": [
    " - **Supervised: Learn to predict specific features of new data.**\n",
    "   - Classification: predict discrete features (learn a conditional model).\n",
    "   - Regression: predict continuous features  (learn a conditional model)."
   ]
  },
  {
   "cell_type": "markdown",
   "metadata": {
    "slideshow": {
     "slide_type": "subslide"
    }
   },
   "source": [
    " - **Inference: explain observed data.**\n",
    "   - Assuming a model: what parameters (with what uncertainties) best describe my data? (learn a model).\n",
    "   - Given competing models: which best describes my data? (model selection)."
   ]
  },
  {
   "cell_type": "markdown",
   "metadata": {
    "slideshow": {
     "slide_type": "subslide"
    }
   },
   "source": [
    " - **Also: reinforcement learning.**"
   ]
  },
  {
   "cell_type": "markdown",
   "metadata": {
    "slideshow": {
     "slide_type": "skip"
    }
   },
   "source": [
    "- ** Unsupervised **:\n",
    "  - e.g. find clusters in high-dimensional space, dimensionality reduction (note: usually need data with zero mean, unit std dev)\n",
    "- ** Supervised **:\n",
    "  - Nearest neigbords\n",
    "  - Random Forest\n",
    "  - Support Vector Machine\n",
    "- ** Inference **:\n",
    "  - A bit like statistics: what parameters + uncertainties best describe my data?\n",
    "- ** Reinforcement **:\n",
    "  - Given a state of the environment, decide on an action. Get back new state and a 'reward' (e.g. score). Able to learn long-term gain vs short-term gain. Used for e.g. AlphaGo"
   ]
  },
  {
   "cell_type": "markdown",
   "metadata": {
    "slideshow": {
     "slide_type": "subslide"
    }
   },
   "source": [
    "![outline](media/outline.png)"
   ]
  },
  {
   "cell_type": "markdown",
   "metadata": {
    "slideshow": {
     "slide_type": "subslide"
    }
   },
   "source": [
    "#### Neural networks\n",
    "\n",
    "- A \"neuron\" is $f(x) = \\phi(W\\,\\mathbf{x} + b)$\n",
    "  - $\\phi$ is the _activation function_\n",
    "  - $W$ is the _weight matrix_\n",
    "  - $b$ is the _bias_"
   ]
  },
  {
   "cell_type": "markdown",
   "metadata": {
    "slideshow": {
     "slide_type": "subslide"
    }
   },
   "source": [
    "- **Dense neural network (DNN)**:\n",
    "  - Input layer\n",
    "  - One or more _hidden layers_\n",
    "  - Output layer\n",
    "  - Each neuron of a layer is connected to each neuron of the next layer"
   ]
  },
  {
   "cell_type": "markdown",
   "metadata": {
    "slideshow": {
     "slide_type": "fragment"
    }
   },
   "source": [
    "![nn-layer](media/nn-layer.png)"
   ]
  },
  {
   "cell_type": "markdown",
   "metadata": {
    "slideshow": {
     "slide_type": "subslide"
    }
   },
   "source": [
    "- **Convolutional neural network (CNN)**:\n",
    "  - Assumes the input measures some property on a grid.\n",
    "  - Each CNN layer has associated **kernels** which are separately convolved with each pixel of the layer's input to generate its output values."
   ]
  },
  {
   "cell_type": "markdown",
   "metadata": {
    "slideshow": {
     "slide_type": "fragment"
    }
   },
   "source": [
    "![convnet](media/convnet.png)"
   ]
  },
  {
   "cell_type": "markdown",
   "metadata": {
    "slideshow": {
     "slide_type": "subslide"
    }
   },
   "source": [
    "#### Autoencoder\n",
    "\n",
    "A network that learns to encode itself. Effectively a dimensionality reduction.\n",
    "\n",
    "![AutoEncoder architecture](media/AutoEncoder.png)"
   ]
  },
  {
   "cell_type": "markdown",
   "metadata": {
    "slideshow": {
     "slide_type": "subslide"
    }
   },
   "source": [
    "#### Generative-adversarial network (GAN)\n",
    "\n",
    "Building on the theme of a probabilistic generator, we can set up an \"arms race\" between two networks"
   ]
  },
  {
   "cell_type": "markdown",
   "metadata": {
    "slideshow": {
     "slide_type": "notes"
    }
   },
   "source": [
    " - A generative model that learns to synthesize realistic data.\n",
    " - An adversarial classifier that learns to distinguish between real and generated data.\n",
    " - Training works as follows:\n",
    "   - Generate some random data.\n",
    "   - Test how well the discriminator identifies the generated data as a fake.\n",
    "   - Feed the same discriminator some real data.\n",
    "   - Test how well the discriminator identifies the real data as real."
   ]
  },
  {
   "cell_type": "markdown",
   "metadata": {},
   "source": [
    "# Some Final Notes"
   ]
  },
  {
   "cell_type": "markdown",
   "metadata": {
    "slideshow": {
     "slide_type": "slide"
    }
   },
   "source": [
    "## Acknowledgements\n",
    "\n",
    "![group_photo](media/group_photo.png)"
   ]
  },
  {
   "cell_type": "markdown",
   "metadata": {
    "slideshow": {
     "slide_type": "slide"
    }
   },
   "source": [
    "![](media/eu_asterics.png)\n",
    "This tutorial was supported by the H2020-Astronomy ESFRI and Research Infrastructure Cluster (Grant Agreement number: 653477)"
   ]
  },
  {
   "cell_type": "markdown",
   "metadata": {},
   "source": [
    "![](media/asterix.png)"
   ]
  }
 ],
 "metadata": {
  "celltoolbar": "Slideshow",
  "kernelspec": {
   "display_name": "Python 3",
   "language": "python",
   "name": "python3"
  },
  "language_info": {
   "codemirror_mode": {
    "name": "ipython",
    "version": 3
   },
   "file_extension": ".py",
   "mimetype": "text/x-python",
   "name": "python",
   "nbconvert_exporter": "python",
   "pygments_lexer": "ipython3",
   "version": "3.6.5"
  }
 },
 "nbformat": 4,
 "nbformat_minor": 2
}
